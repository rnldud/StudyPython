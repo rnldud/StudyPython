{
 "cells": [
  {
   "cell_type": "markdown",
   "metadata": {},
   "source": [
    "## BookRentalShop on Jupyter Notebook"
   ]
  },
  {
   "cell_type": "code",
   "execution_count": 1,
   "metadata": {},
   "outputs": [],
   "source": [
    "import cx_Oracle as ora "
   ]
  },
  {
   "cell_type": "markdown",
   "metadata": {},
   "source": [
    "### DB연결 함수\n",
    "> myconn()"
   ]
  },
  {
   "cell_type": "code",
   "execution_count": 11,
   "metadata": {},
   "outputs": [],
   "source": [
    "def myconn(): \n",
    "    dsn = ora.makedsn('localhost', 1521, service_name = 'orcl')\n",
    "    conn = ora.connect(user = 'scott', password = 'tiger', dsn=dsn, encoding = 'utf-8')\n",
    "    return conn "
   ]
  },
  {
   "cell_type": "markdown",
   "metadata": {},
   "source": [
    "### Divtbl 전체조회 함수\n",
    "사용법\n",
    "> getAllDataFromDivtbl(conn) #conn은 연결객체\n"
   ]
  },
  {
   "cell_type": "code",
   "execution_count": 4,
   "metadata": {},
   "outputs": [],
   "source": [
    "def getAllDataFromDivtbl(conn):\n",
    "    cur = conn.cursor()\n",
    "    query = 'SELECT * FROM divtbl'\n",
    "    for row in cur.execute(query):\n",
    "        print(row)"
   ]
  },
  {
   "cell_type": "markdown",
   "metadata": {},
   "source": [
    "### Divtbl에 신규 장르정보 입력\n",
    "사용법 tup = (division, names)\n",
    "> setDataIntoDivtbl(conn, tup)\n"
   ]
  },
  {
   "cell_type": "code",
   "execution_count": 38,
   "metadata": {},
   "outputs": [],
   "source": [
    "def setDataIntoDivtbl(conn, tup):\n",
    "    cur = conn.cursor()\n",
    "    query = '''INSERT INTO divtbl (division, names) \n",
    "               VALUES (:1, :2)'''\n",
    "    cur.execute(query, tup)\n",
    "    cur.close()      #cur이 열렸기때문에 close 생략도 되지만, close 작성요망\n",
    "    conn.commit() #commit을 해줘야 데이터입력성공 "
   ]
  },
  {
   "cell_type": "markdown",
   "metadata": {},
   "source": [
    "### 책대여 프로그램 시작 \n"
   ]
  },
  {
   "cell_type": "code",
   "execution_count": 31,
   "metadata": {},
   "outputs": [
    {
     "name": "stdout",
     "output_type": "stream",
     "text": [
      "접속\n"
     ]
    }
   ],
   "source": [
    "scott_con = myconn()\n",
    "print('접속')"
   ]
  },
  {
   "cell_type": "markdown",
   "metadata": {},
   "source": [
    "### 책장르 정보조회\n",
    ">getAllDataFromDivtbl(scott_con)"
   ]
  },
  {
   "cell_type": "code",
   "execution_count": 32,
   "metadata": {},
   "outputs": [
    {
     "name": "stdout",
     "output_type": "stream",
     "text": [
      "('I009', '호러밍')\n",
      "('i007', '실무')\n",
      "('i003', '프로그래밍')\n",
      "('B001', '스릴러/호러')\n",
      "('B002', '로맨스')\n",
      "('B003', '무협')\n",
      "('B004', '전쟁/역사')\n",
      "('B005', '추리')\n",
      "('B006', 'SF/판타지')\n",
      "('I001', '프로그래밍')\n"
     ]
    }
   ],
   "source": [
    "getAllDataFromDivtbl(scott_con)"
   ]
  },
  {
   "cell_type": "markdown",
   "metadata": {},
   "source": [
    "#### 책장르 정보 입력"
   ]
  },
  {
   "cell_type": "code",
   "execution_count": 40,
   "metadata": {},
   "outputs": [
    {
     "name": "stdout",
     "output_type": "stream",
     "text": [
      "('1222', '장르임다')\n",
      "('2222', '장르')\n",
      "('I009', '호러밍')\n",
      "('i007', '실무')\n",
      "('i003', '프로그래밍')\n",
      "('B001', '스릴러/호러')\n",
      "('B002', '로맨스')\n",
      "('B003', '무협')\n",
      "('B004', '전쟁/역사')\n",
      "('B005', '추리')\n",
      "('B006', 'SF/판타지')\n",
      "('I001', '프로그래밍')\n"
     ]
    }
   ],
   "source": [
    "division = '1222'\n",
    "names = '장르임다'\n",
    "tup = (division, names)\n",
    "setDataIntoDivtbl(scott_con, tup)\n",
    "getAllDataFromDivtbl(scott_con)\n"
   ]
  },
  {
   "cell_type": "code",
   "execution_count": null,
   "metadata": {},
   "outputs": [],
   "source": []
  }
 ],
 "metadata": {
  "interpreter": {
   "hash": "e5bc2cf9d9a3d85fb4b9cf5c2acdd222f933ac2e5b2df75a3f82eb3e684a5541"
  },
  "kernelspec": {
   "display_name": "Python 3.10.1 64-bit",
   "language": "python",
   "name": "python3"
  },
  "language_info": {
   "codemirror_mode": {
    "name": "ipython",
    "version": 3
   },
   "file_extension": ".py",
   "mimetype": "text/x-python",
   "name": "python",
   "nbconvert_exporter": "python",
   "pygments_lexer": "ipython3",
   "version": "3.10.1"
  },
  "orig_nbformat": 4
 },
 "nbformat": 4,
 "nbformat_minor": 2
}
