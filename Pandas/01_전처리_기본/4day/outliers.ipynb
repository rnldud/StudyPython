{
 "cells": [
  {
   "cell_type": "code",
   "execution_count": 1,
   "id": "1c7251af",
   "metadata": {},
   "outputs": [],
   "source": [
    "def outliers_iqr3(dframe, data): \n",
    "    #q1, q3 값 확인하기\n",
    "    #percentile(): 25%와 75% 시점의 데이터 값을 알려줌(return)\n",
    "    q1,q3 = np.percentile(data,[25, 75]) \n",
    "    print(q1) \n",
    "    print(q3) \n",
    "    \n",
    "    #iqr 값 계산\n",
    "    iqr = q3-q1   \n",
    "    print(iqr)\n",
    "    \n",
    "    #최대값 계산\n",
    "    upper_bound = q3 + (iqr * 1.5)\n",
    "    print(upper_bound)\n",
    "    \n",
    "    #최소값 계산\n",
    "    lower_bound = q1 - (iqr * 1.5)\n",
    "    print(lower_bound)\n",
    "    \n",
    "    #나이 데이터에서 이상치 값 조회하기 \n",
    "    df_temp = dframe[(data> upper_bound) | \n",
    "                     (data< lower_bound)] #전체 조회위해 data로 변경 \n",
    "    print(len(df_temp))\n",
    "    print(df_temp)"
   ]
  }
 ],
 "metadata": {
  "kernelspec": {
   "display_name": "Python 3 (ipykernel)",
   "language": "python",
   "name": "python3"
  },
  "language_info": {
   "codemirror_mode": {
    "name": "ipython",
    "version": 3
   },
   "file_extension": ".py",
   "mimetype": "text/x-python",
   "name": "python",
   "nbconvert_exporter": "python",
   "pygments_lexer": "ipython3",
   "version": "3.9.7"
  }
 },
 "nbformat": 4,
 "nbformat_minor": 5
}
