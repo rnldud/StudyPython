{
 "cells": [
  {
   "cell_type": "code",
   "execution_count": 2,
   "id": "20acaba8",
   "metadata": {},
   "outputs": [],
   "source": [
    "# 라이브러리 가지고오기 \n",
    "from konlpy.tag import Okt"
   ]
  },
  {
   "cell_type": "code",
   "execution_count": 3,
   "id": "e4de4ea1",
   "metadata": {},
   "outputs": [],
   "source": [
    "word = Okt()"
   ]
  },
  {
   "cell_type": "code",
   "execution_count": 4,
   "id": "e3774dd7",
   "metadata": {},
   "outputs": [
    {
     "data": {
      "text/plain": [
       "'한국어 분석을 시작합니다.'"
      ]
     },
     "execution_count": 4,
     "metadata": {},
     "output_type": "execute_result"
    }
   ],
   "source": [
    "text = \"한국어 분석을 시작합니다.\"\n",
    "text"
   ]
  },
  {
   "cell_type": "code",
   "execution_count": 5,
   "id": "d8fb8911",
   "metadata": {},
   "outputs": [
    {
     "name": "stdout",
     "output_type": "stream",
     "text": [
      "한국어 분석을 시작합니다.\n"
     ]
    }
   ],
   "source": [
    "#1. 정규화\n",
    "print(word.normalize(text))"
   ]
  },
  {
   "cell_type": "code",
   "execution_count": 6,
   "id": "624eddae",
   "metadata": {},
   "outputs": [
    {
     "name": "stdout",
     "output_type": "stream",
     "text": [
      "['한국어', '한국어 분석', '시작', '분석']\n"
     ]
    }
   ],
   "source": [
    "#2. 어절 추출하기\n",
    "print(word.phrases(text))"
   ]
  },
  {
   "cell_type": "code",
   "execution_count": 7,
   "id": "c008c85d",
   "metadata": {},
   "outputs": [
    {
     "name": "stdout",
     "output_type": "stream",
     "text": [
      "['한국어', '분석', '을', '시작', '합니다', '.']\n"
     ]
    }
   ],
   "source": [
    "#3. 형태소 분리하기: 가장많이 사용\n",
    "print(word.morphs(text))"
   ]
  },
  {
   "cell_type": "code",
   "execution_count": 8,
   "id": "fd6864a7",
   "metadata": {},
   "outputs": [
    {
     "name": "stdout",
     "output_type": "stream",
     "text": [
      "[('한국어', 'Noun'), ('분석', 'Noun'), ('을', 'Josa'), ('시작', 'Noun'), ('합니다', 'Verb'), ('.', 'Punctuation')]\n"
     ]
    }
   ],
   "source": [
    "#4. 형태소분리(형태소마다 이름달기)\n",
    "print(word.pos(text))"
   ]
  },
  {
   "cell_type": "code",
   "execution_count": 9,
   "id": "198ac0b6",
   "metadata": {},
   "outputs": [
    {
     "name": "stdout",
     "output_type": "stream",
     "text": [
      "['한국어', '분석', '시작']\n"
     ]
    }
   ],
   "source": [
    "#5. 명사추출하기 : 자주사용\n",
    "print(word.nouns(text))"
   ]
  },
  {
   "cell_type": "code",
   "execution_count": null,
   "id": "e7e0bdd3",
   "metadata": {},
   "outputs": [],
   "source": []
  },
  {
   "cell_type": "code",
   "execution_count": null,
   "id": "0f918fde",
   "metadata": {},
   "outputs": [],
   "source": []
  },
  {
   "cell_type": "code",
   "execution_count": null,
   "id": "4f32e033",
   "metadata": {},
   "outputs": [],
   "source": []
  },
  {
   "cell_type": "code",
   "execution_count": null,
   "id": "40a45b7a",
   "metadata": {},
   "outputs": [],
   "source": []
  },
  {
   "cell_type": "code",
   "execution_count": null,
   "id": "f44ffe25",
   "metadata": {},
   "outputs": [],
   "source": []
  },
  {
   "cell_type": "code",
   "execution_count": null,
   "id": "91917558",
   "metadata": {},
   "outputs": [],
   "source": []
  }
 ],
 "metadata": {
  "kernelspec": {
   "display_name": "Python 3 (ipykernel)",
   "language": "python",
   "name": "python3"
  },
  "language_info": {
   "codemirror_mode": {
    "name": "ipython",
    "version": 3
   },
   "file_extension": ".py",
   "mimetype": "text/x-python",
   "name": "python",
   "nbconvert_exporter": "python",
   "pygments_lexer": "ipython3",
   "version": "3.7.11"
  }
 },
 "nbformat": 4,
 "nbformat_minor": 5
}
