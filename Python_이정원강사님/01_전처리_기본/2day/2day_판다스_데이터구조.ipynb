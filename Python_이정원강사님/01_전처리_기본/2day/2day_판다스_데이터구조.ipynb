{
 "cells": [
  {
   "cell_type": "markdown",
   "id": "faaa78cf",
   "metadata": {},
   "source": [
    "# 판다스 데이터 구조"
   ]
  },
  {
   "cell_type": "markdown",
   "id": "676372ac",
   "metadata": {},
   "source": [
    "## 시리즈"
   ]
  },
  {
   "cell_type": "code",
   "execution_count": 6,
   "id": "6a15ff56",
   "metadata": {},
   "outputs": [],
   "source": [
    "#라이브러리 불러들이기\n",
    "import pandas as pd"
   ]
  },
  {
   "cell_type": "code",
   "execution_count": 10,
   "id": "fc1f637f",
   "metadata": {},
   "outputs": [
    {
     "data": {
      "text/plain": [
       "00       Doc\n",
       "11       Cat\n",
       "22     Tiger\n",
       "33      Lion\n",
       "44    Monkey\n",
       "dtype: object"
      ]
     },
     "execution_count": 10,
     "metadata": {},
     "output_type": "execute_result"
    }
   ],
   "source": [
    "sd1 = pd.Series(['Doc','Cat','Tiger','Lion','Monkey'],\n",
    "                index = ['00','11','22','33','44'])\n",
    "sd1"
   ]
  },
  {
   "cell_type": "code",
   "execution_count": 13,
   "id": "ee24d9c0",
   "metadata": {},
   "outputs": [
    {
     "data": {
      "text/plain": [
       "{'a': 1, 'b': 2, 'c': 3}"
      ]
     },
     "execution_count": 13,
     "metadata": {},
     "output_type": "execute_result"
    }
   ],
   "source": [
    "#딕셔너리 데이터 만들기\n",
    "dic_data = {'a':1,'b': 2,'c': 3}\n",
    "dic_data"
   ]
  },
  {
   "cell_type": "code",
   "execution_count": 17,
   "id": "da3a121e",
   "metadata": {},
   "outputs": [
    {
     "data": {
      "text/plain": [
       "a    1\n",
       "b    2\n",
       "c    3\n",
       "dtype: int64"
      ]
     },
     "execution_count": 17,
     "metadata": {},
     "output_type": "execute_result"
    }
   ],
   "source": [
    "sd2 = pd.Series(dic_data)\n",
    "sd2"
   ]
  },
  {
   "cell_type": "code",
   "execution_count": 18,
   "id": "01b2e390",
   "metadata": {},
   "outputs": [
    {
     "data": {
      "text/plain": [
       "pandas.core.series.Series"
      ]
     },
     "execution_count": 18,
     "metadata": {},
     "output_type": "execute_result"
    }
   ],
   "source": [
    "#유형\n",
    "type(sd2)"
   ]
  },
  {
   "cell_type": "markdown",
   "id": "6ab5a908",
   "metadata": {},
   "source": [
    "## 리스트 -> 시리즈"
   ]
  },
  {
   "cell_type": "code",
   "execution_count": 19,
   "id": "c317a35c",
   "metadata": {},
   "outputs": [
    {
     "data": {
      "text/plain": [
       "0      Dog\n",
       "1      Cat\n",
       "2    TIGER\n",
       "dtype: object"
      ]
     },
     "execution_count": 19,
     "metadata": {},
     "output_type": "execute_result"
    }
   ],
   "source": [
    "list_data = ['Dog', 'Cat', 'TIGER']\n",
    "\n",
    "sd3 = pd.Series(list_data)\n",
    "sd3\n"
   ]
  },
  {
   "cell_type": "code",
   "execution_count": 20,
   "id": "e8568d1f",
   "metadata": {},
   "outputs": [
    {
     "data": {
      "text/plain": [
       "pandas.core.series.Series"
      ]
     },
     "execution_count": 20,
     "metadata": {},
     "output_type": "execute_result"
    }
   ],
   "source": [
    "type(sd3)"
   ]
  }
 ],
 "metadata": {
  "kernelspec": {
   "display_name": "Python 3 (ipykernel)",
   "language": "python",
   "name": "python3"
  },
  "language_info": {
   "codemirror_mode": {
    "name": "ipython",
    "version": 3
   },
   "file_extension": ".py",
   "mimetype": "text/x-python",
   "name": "python",
   "nbconvert_exporter": "python",
   "pygments_lexer": "ipython3",
   "version": "3.9.7"
  }
 },
 "nbformat": 4,
 "nbformat_minor": 5
}
